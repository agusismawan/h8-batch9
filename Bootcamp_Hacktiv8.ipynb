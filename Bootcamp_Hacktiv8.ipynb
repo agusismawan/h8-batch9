{
  "nbformat": 4,
  "nbformat_minor": 0,
  "metadata": {
    "colab": {
      "provenance": []
    },
    "kernelspec": {
      "name": "python3",
      "display_name": "Python 3"
    },
    "language_info": {
      "name": "python"
    }
  },
  "cells": [
    {
      "cell_type": "code",
      "execution_count": null,
      "metadata": {
        "colab": {
          "base_uri": "https://localhost:8080/"
        },
        "id": "PYA_yxompLtC",
        "outputId": "6d7a1487-386c-4aea-f2cb-ad849d2d7a78"
      },
      "outputs": [
        {
          "output_type": "stream",
          "name": "stdout",
          "text": [
            "10\n",
            "<class 'int'>\n"
          ]
        }
      ],
      "source": [
        "print(10)\n",
        "print(type(10))"
      ]
    },
    {
      "cell_type": "code",
      "source": [
        "print(4.2)\n",
        "print(type(4.2))"
      ],
      "metadata": {
        "colab": {
          "base_uri": "https://localhost:8080/"
        },
        "id": "DnAhXZtmrhVp",
        "outputId": "790ced29-8f56-4f7d-8ab2-205e40793fb1"
      },
      "execution_count": null,
      "outputs": [
        {
          "output_type": "stream",
          "name": "stdout",
          "text": [
            "4.2\n",
            "<class 'float'>\n"
          ]
        }
      ]
    },
    {
      "cell_type": "code",
      "source": [
        "print('Hacktiv8');\n",
        "print(type('Hacktive8'))"
      ],
      "metadata": {
        "colab": {
          "base_uri": "https://localhost:8080/"
        },
        "id": "SO67wAt-rufP",
        "outputId": "7549f044-776e-437f-b2a8-d51a482854b4"
      },
      "execution_count": null,
      "outputs": [
        {
          "output_type": "stream",
          "name": "stdout",
          "text": [
            "Hacktiv8\n",
            "<class 'str'>\n"
          ]
        }
      ]
    },
    {
      "cell_type": "code",
      "source": [
        "print(type(True))"
      ],
      "metadata": {
        "colab": {
          "base_uri": "https://localhost:8080/"
        },
        "id": "nUxPtO1VsRLl",
        "outputId": "82964d99-281d-4b60-ae8c-fa205f332ef2"
      },
      "execution_count": null,
      "outputs": [
        {
          "output_type": "stream",
          "name": "stdout",
          "text": [
            "<class 'bool'>\n"
          ]
        }
      ]
    },
    {
      "cell_type": "markdown",
      "source": [
        "**Vaiable Names**"
      ],
      "metadata": {
        "id": "fU-a8TycsgqB"
      }
    },
    {
      "cell_type": "code",
      "source": [
        "name = 'Hacktiv8'\n",
        "age = 58\n",
        "has_laptops = True\n",
        "print(name, age, has_laptops)"
      ],
      "metadata": {
        "colab": {
          "base_uri": "https://localhost:8080/"
        },
        "id": "VBlRTr-ps6ZE",
        "outputId": "e39e8783-4cbc-4489-cc13-af3fee4b1902"
      },
      "execution_count": null,
      "outputs": [
        {
          "output_type": "stream",
          "name": "stdout",
          "text": [
            "Hacktiv8 58 True\n"
          ]
        }
      ]
    },
    {
      "cell_type": "code",
      "source": [
        "A = 1\n",
        "B = 2\n",
        "C = 3\n",
        "\n",
        "if B > A or B > C :\n",
        "  print('tampil')\n",
        "else :\n",
        "  print('enggak')"
      ],
      "metadata": {
        "colab": {
          "base_uri": "https://localhost:8080/"
        },
        "id": "y-Mk6QbqUwIC",
        "outputId": "3c695224-9e25-4b74-dde7-a5d1c06214b8"
      },
      "execution_count": null,
      "outputs": [
        {
          "output_type": "stream",
          "name": "stdout",
          "text": [
            "tampil\n"
          ]
        }
      ]
    },
    {
      "cell_type": "code",
      "source": [
        "sistem = ['saya', 'pergi', 'ke', 'LPPI', 'kemang']\n",
        "engineer = ['tidak', 'jalan', 'karena', 'banjir']\n",
        "\n",
        "engineer[0] = 'tetap'\n",
        "\n",
        "print(sistem[0], engineer[0], sistem[1], engineer[2], engineer[3])"
      ],
      "metadata": {
        "colab": {
          "base_uri": "https://localhost:8080/"
        },
        "id": "2ctLp0pJWoCz",
        "outputId": "080d62c4-2e9f-4b08-e67e-b1bcfafa74e1"
      },
      "execution_count": null,
      "outputs": [
        {
          "output_type": "stream",
          "name": "stdout",
          "text": [
            "saya tetap pergi karena banjir\n"
          ]
        }
      ]
    },
    {
      "cell_type": "code",
      "source": [
        "A = 6\n",
        "B = 7\n",
        "C = 9\n",
        "\n",
        "if C > A :\n",
        "  if B > C :\n",
        "    print(True)\n",
        "  else :\n",
        "    print(False)\n",
        "else :\n",
        "  pass"
      ],
      "metadata": {
        "colab": {
          "base_uri": "https://localhost:8080/"
        },
        "id": "5y8ElZWJYuVi",
        "outputId": "1829c2b8-2607-4cc9-e3d8-8b7c514d647a"
      },
      "execution_count": null,
      "outputs": [
        {
          "output_type": "stream",
          "name": "stdout",
          "text": [
            "False\n"
          ]
        }
      ]
    },
    {
      "cell_type": "markdown",
      "source": [
        "Nilai salah satu dari A & B < 60 gagal, keduanya harus memiliki nilai diatas 60 agar lulus."
      ],
      "metadata": {
        "id": "4teVBRTucFX3"
      }
    },
    {
      "cell_type": "code",
      "source": [
        "siswa = [{'nama': 'Nama 1', 'nilaiA': 80, 'nilaiB': 70, 'jumlah': 150},\n",
        "         {'nama': 'Nama 2', 'nilaiA': 55, 'nilaiB': 70, 'jumlah': 125},\n",
        "         {'nama': 'Nama 3', 'nilaiA': 80, 'nilaiB': 90, 'jumlah': 170}]\n",
        "\n",
        "for i in siswa :\n",
        "  if i['nilaiA'] <= 60 or i['nilaiB'] <= 60 :\n",
        "    print(i['nama'], 'Gagal')\n",
        "  else :\n",
        "    print(i['nama'], 'Lulus')"
      ],
      "metadata": {
        "colab": {
          "base_uri": "https://localhost:8080/"
        },
        "id": "xXD4Gl2HcRla",
        "outputId": "ab10c43e-36e8-4042-9525-a86b1e8f1611"
      },
      "execution_count": null,
      "outputs": [
        {
          "output_type": "stream",
          "name": "stdout",
          "text": [
            "Nama 1 Lulus\n",
            "Nama 2 Gagal\n",
            "Nama 3 Lulus\n"
          ]
        }
      ]
    },
    {
      "cell_type": "code",
      "source": [
        "# username = input('Enter Username: ')\n",
        "# nama = input('Nama: ')\n",
        "# hobi = input('Hobi: ')\n",
        "# email = input('Email: ')\n",
        "# hp = input('HP: ')\n",
        "uts = int(input('Nilai UTS: '))\n",
        "uas = int(input('Nilai UAS: '))\n",
        "status = ''\n",
        "\n",
        "if uts <= 60 or uas <= 60 :\n",
        "  total = uts+uas\n",
        "  if total <= 125 :\n",
        "    status = 'Gagal'\n",
        "    print('Mohon maaf anda ', status)\n",
        "  else :\n",
        "    status = 'Lulus'\n",
        "    print('Selamat anda ', status)"
      ],
      "metadata": {
        "colab": {
          "base_uri": "https://localhost:8080/"
        },
        "id": "HIw6xzNyiWRN",
        "outputId": "911185b0-23a5-4409-f76c-6ee683c4a104"
      },
      "execution_count": null,
      "outputs": [
        {
          "output_type": "stream",
          "name": "stdout",
          "text": [
            "Nilai UTS: 60\n",
            "Nilai UAS: 60\n",
            "Mohon maaf anda  Gagal\n"
          ]
        }
      ]
    },
    {
      "cell_type": "code",
      "source": [
        "# belum kelar\n",
        "def strToBin(inputStr) :\n",
        "\n",
        "  for char in inputStr :\n",
        "    # ord() to get the ASCII value\n",
        "    print(char, format(ord(char), '08b'), len(format(ord(char), '08b')))\n",
        "\n",
        "def binToOctal(binaryStr) :\n",
        "  while len(binaryStr) % 3 != 0 :\n",
        "    binaryStr = '0' + binaryStr\n",
        "    print(binaryStr)\n",
        "\n",
        "  octalResult = ''\n",
        "  i = 0\n",
        "\n",
        "  while i < len(binaryStr) :\n",
        "    chunk = binaryStr[i:i+3]\n",
        "    print(chunk)\n",
        "\n",
        "  return octalResult\n",
        "\n",
        "\n",
        "# strToBin('BaT');\n",
        "# 01000010\n",
        "binToOctal('01000010')"
      ],
      "metadata": {
        "id": "A8EydrC3W6hY"
      },
      "execution_count": null,
      "outputs": []
    },
    {
      "cell_type": "markdown",
      "source": [
        "**Percabangan & Perulangan**"
      ],
      "metadata": {
        "id": "nT_LTMq_oH09"
      }
    },
    {
      "cell_type": "code",
      "source": [
        "s = 12\n",
        "\n",
        "# if s > 18:\n",
        "#     for i in range(12, 16):\n",
        "#         print(i)\n",
        "#     print(\"Selesai\")\n",
        "\n",
        "while s < 16:\n",
        "  print(s)\n",
        "  s += 1\n",
        "\n",
        "  while s > 18:\n",
        "    s -= 1\n",
        "    if s == 16 :\n",
        "      continue\n",
        "print('Selesai')\n"
      ],
      "metadata": {
        "colab": {
          "base_uri": "https://localhost:8080/"
        },
        "id": "mhg7NutAtCme",
        "outputId": "821d6f1f-1c66-4a36-990e-79eb2b5edf56"
      },
      "execution_count": 3,
      "outputs": [
        {
          "output_type": "stream",
          "name": "stdout",
          "text": [
            "12\n",
            "13\n",
            "14\n",
            "15\n",
            "Selesai\n"
          ]
        }
      ]
    },
    {
      "cell_type": "code",
      "source": [],
      "metadata": {
        "id": "KRrJecQF2T4I"
      },
      "execution_count": null,
      "outputs": []
    }
  ]
}