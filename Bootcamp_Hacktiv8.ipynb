{
  "nbformat": 4,
  "nbformat_minor": 0,
  "metadata": {
    "colab": {
      "provenance": []
    },
    "kernelspec": {
      "name": "python3",
      "display_name": "Python 3"
    },
    "language_info": {
      "name": "python"
    }
  },
  "cells": [
    {
      "cell_type": "code",
      "execution_count": null,
      "metadata": {
        "colab": {
          "base_uri": "https://localhost:8080/"
        },
        "id": "PYA_yxompLtC",
        "outputId": "6d7a1487-386c-4aea-f2cb-ad849d2d7a78"
      },
      "outputs": [
        {
          "output_type": "stream",
          "name": "stdout",
          "text": [
            "10\n",
            "<class 'int'>\n"
          ]
        }
      ],
      "source": [
        "print(10)\n",
        "print(type(10))"
      ]
    },
    {
      "cell_type": "code",
      "source": [
        "print(4.2)\n",
        "print(type(4.2))"
      ],
      "metadata": {
        "colab": {
          "base_uri": "https://localhost:8080/"
        },
        "id": "DnAhXZtmrhVp",
        "outputId": "790ced29-8f56-4f7d-8ab2-205e40793fb1"
      },
      "execution_count": null,
      "outputs": [
        {
          "output_type": "stream",
          "name": "stdout",
          "text": [
            "4.2\n",
            "<class 'float'>\n"
          ]
        }
      ]
    },
    {
      "cell_type": "code",
      "source": [
        "print('Hacktiv8');\n",
        "print(type('Hacktive8'))"
      ],
      "metadata": {
        "colab": {
          "base_uri": "https://localhost:8080/"
        },
        "id": "SO67wAt-rufP",
        "outputId": "7549f044-776e-437f-b2a8-d51a482854b4"
      },
      "execution_count": null,
      "outputs": [
        {
          "output_type": "stream",
          "name": "stdout",
          "text": [
            "Hacktiv8\n",
            "<class 'str'>\n"
          ]
        }
      ]
    },
    {
      "cell_type": "code",
      "source": [
        "print(type(True))"
      ],
      "metadata": {
        "colab": {
          "base_uri": "https://localhost:8080/"
        },
        "id": "nUxPtO1VsRLl",
        "outputId": "82964d99-281d-4b60-ae8c-fa205f332ef2"
      },
      "execution_count": null,
      "outputs": [
        {
          "output_type": "stream",
          "name": "stdout",
          "text": [
            "<class 'bool'>\n"
          ]
        }
      ]
    },
    {
      "cell_type": "markdown",
      "source": [
        "**Vaiable Names**"
      ],
      "metadata": {
        "id": "fU-a8TycsgqB"
      }
    },
    {
      "cell_type": "code",
      "source": [
        "name = 'Hacktiv8'\n",
        "age = 58\n",
        "has_laptops = True\n",
        "print(name, age, has_laptops)"
      ],
      "metadata": {
        "colab": {
          "base_uri": "https://localhost:8080/"
        },
        "id": "VBlRTr-ps6ZE",
        "outputId": "e39e8783-4cbc-4489-cc13-af3fee4b1902"
      },
      "execution_count": null,
      "outputs": [
        {
          "output_type": "stream",
          "name": "stdout",
          "text": [
            "Hacktiv8 58 True\n"
          ]
        }
      ]
    },
    {
      "cell_type": "code",
      "source": [
        "A = 1\n",
        "B = 2\n",
        "C = 3\n",
        "\n",
        "if B > A or B > C :\n",
        "  print('tampil')\n",
        "else :\n",
        "  print('enggak')"
      ],
      "metadata": {
        "colab": {
          "base_uri": "https://localhost:8080/"
        },
        "id": "y-Mk6QbqUwIC",
        "outputId": "3c695224-9e25-4b74-dde7-a5d1c06214b8"
      },
      "execution_count": null,
      "outputs": [
        {
          "output_type": "stream",
          "name": "stdout",
          "text": [
            "tampil\n"
          ]
        }
      ]
    },
    {
      "cell_type": "code",
      "source": [
        "sistem = ['saya', 'pergi', 'ke', 'LPPI', 'kemang']\n",
        "engineer = ['tidak', 'jalan', 'karena', 'banjir']\n",
        "\n",
        "engineer[0] = 'tetap'\n",
        "\n",
        "print(sistem[0], engineer[0], sistem[1], engineer[2], engineer[3])"
      ],
      "metadata": {
        "colab": {
          "base_uri": "https://localhost:8080/"
        },
        "id": "2ctLp0pJWoCz",
        "outputId": "080d62c4-2e9f-4b08-e67e-b1bcfafa74e1"
      },
      "execution_count": null,
      "outputs": [
        {
          "output_type": "stream",
          "name": "stdout",
          "text": [
            "saya tetap pergi karena banjir\n"
          ]
        }
      ]
    },
    {
      "cell_type": "code",
      "source": [
        "A = 6\n",
        "B = 7\n",
        "C = 9\n",
        "\n",
        "if C > A :\n",
        "  if B > C :\n",
        "    print(True)\n",
        "  else :\n",
        "    print(False)\n",
        "else :\n",
        "  pass"
      ],
      "metadata": {
        "colab": {
          "base_uri": "https://localhost:8080/"
        },
        "id": "5y8ElZWJYuVi",
        "outputId": "1829c2b8-2607-4cc9-e3d8-8b7c514d647a"
      },
      "execution_count": null,
      "outputs": [
        {
          "output_type": "stream",
          "name": "stdout",
          "text": [
            "False\n"
          ]
        }
      ]
    },
    {
      "cell_type": "markdown",
      "source": [
        "Nilai salah satu dari A & B < 60 gagal, keduanya harus memiliki nilai diatas 60 agar lulus."
      ],
      "metadata": {
        "id": "4teVBRTucFX3"
      }
    },
    {
      "cell_type": "code",
      "source": [
        "siswa = [{'nama': 'Nama 1', 'nilaiA': 80, 'nilaiB': 70, 'jumlah': 150},\n",
        "         {'nama': 'Nama 2', 'nilaiA': 55, 'nilaiB': 70, 'jumlah': 125},\n",
        "         {'nama': 'Nama 3', 'nilaiA': 80, 'nilaiB': 90, 'jumlah': 170}]\n",
        "\n",
        "for i in siswa :\n",
        "  if i['nilaiA'] <= 60 or i['nilaiB'] <= 60 :\n",
        "    print(i['nama'], 'Gagal')\n",
        "  else :\n",
        "    print(i['nama'], 'Lulus')"
      ],
      "metadata": {
        "colab": {
          "base_uri": "https://localhost:8080/"
        },
        "id": "xXD4Gl2HcRla",
        "outputId": "ab10c43e-36e8-4042-9525-a86b1e8f1611"
      },
      "execution_count": null,
      "outputs": [
        {
          "output_type": "stream",
          "name": "stdout",
          "text": [
            "Nama 1 Lulus\n",
            "Nama 2 Gagal\n",
            "Nama 3 Lulus\n"
          ]
        }
      ]
    },
    {
      "cell_type": "code",
      "source": [
        "# username = input('Enter Username: ')\n",
        "# nama = input('Nama: ')\n",
        "# hobi = input('Hobi: ')\n",
        "# email = input('Email: ')\n",
        "# hp = input('HP: ')\n",
        "uts = int(input('Nilai UTS: '))\n",
        "uas = int(input('Nilai UAS: '))\n",
        "status = ''\n",
        "\n",
        "if uts <= 60 or uas <= 60 :\n",
        "  total = uts+uas\n",
        "  if total <= 125 :\n",
        "    status = 'Gagal'\n",
        "    print('Mohon maaf anda ', status)\n",
        "  else :\n",
        "    status = 'Lulus'\n",
        "    print('Selamat anda ', status)"
      ],
      "metadata": {
        "colab": {
          "base_uri": "https://localhost:8080/"
        },
        "id": "HIw6xzNyiWRN",
        "outputId": "89b8f849-b535-45b1-9f00-b1c3b05fa42a"
      },
      "execution_count": null,
      "outputs": [
        {
          "output_type": "stream",
          "name": "stdout",
          "text": [
            "Nilai UTS: 50\n",
            "Nilai UAS: 50\n",
            "Mohon maaf anda  Gagal\n"
          ]
        }
      ]
    },
    {
      "cell_type": "code",
      "source": [
        "import os\n",
        "\n",
        "name = input('Nama : ')\n",
        "room = input('Ruang : ')\n",
        "schema = input('Skema : ')\n",
        "\n",
        "result = ''\n",
        "\n",
        "for i in range(len(name)) :\n",
        "    charToInt = ord(name[i])\n",
        "    bin = ''\n",
        "    oct = ''\n",
        "    hex = ''\n",
        "\n",
        "    #str to binarry\n",
        "    dec = charToInt\n",
        "    while dec > 0 :\n",
        "        sisa = dec % 2\n",
        "        bin = str(sisa) + bin\n",
        "        dec //= 2\n",
        "\n",
        "    #str to oct\n",
        "    dec = charToInt\n",
        "    while dec > 0 :\n",
        "        sisa = dec % 8\n",
        "        oct = str(sisa) + oct\n",
        "        dec //= 8\n",
        "\n",
        "    #str to hex\n",
        "    dec = charToInt\n",
        "    hex_chars = \"0123456789ABCDEF\"\n",
        "    while dec > 0 :\n",
        "        sisa = dec % 16\n",
        "        hex = hex_chars[sisa] + hex\n",
        "        dec //= 16\n",
        "\n",
        "    # print(name[i], bin, oct, charToInt, hex)\n",
        "    result += f\"{name[i]}, {bin}, {oct}, {charToInt}, {hex}\\n\"\n",
        "\n",
        "# checking file if exist\n",
        "if os.path.exists(\"result.txt\") :\n",
        "  f = open('result.txt', 'a')\n",
        "  f.write(f\"{result}\\n\")\n",
        "  f.close()\n",
        "else :\n",
        "  print(\"--- The file does not exist ---\")\n",
        "  print(\"--- Creating file... ---\")\n",
        "  f = open('result.txt', 'x')\n",
        "  f.write(result)\n",
        "  f.close()\n",
        "\n",
        "print('--- Result ---\\n', result)\n",
        "f = open('result.txt', 'r')\n",
        "\n",
        "print('--- Reading the file ---')\n",
        "print(f.read())"
      ],
      "metadata": {
        "id": "A8EydrC3W6hY",
        "colab": {
          "base_uri": "https://localhost:8080/"
        },
        "outputId": "83b96df3-8cbe-4be0-d1d5-23e8fb1bb7d6"
      },
      "execution_count": null,
      "outputs": [
        {
          "output_type": "stream",
          "name": "stdout",
          "text": [
            "Nama : Sovia\n",
            "Ruang : 212\n",
            "Skema : popo\n",
            "--- Result ---\n",
            " S, 1010011, 123, 83, 53\n",
            "o, 1101111, 157, 111, 6F\n",
            "v, 1110110, 166, 118, 76\n",
            "i, 1101001, 151, 105, 69\n",
            "a, 1100001, 141, 97, 61\n",
            "\n",
            "--- Reading the file ---\n",
            "A, 1000001, 101, 65, 41\n",
            "G, 1000111, 107, 71, 47\n",
            "U, 1010101, 125, 85, 55\n",
            "S, 1010011, 123, 83, 53\n",
            "\n",
            "A, 1000001, 101, 65, 41\n",
            "g, 1100111, 147, 103, 67\n",
            "u, 1110101, 165, 117, 75\n",
            "s, 1110011, 163, 115, 73\n",
            "\n",
            "S, 1010011, 123, 83, 53\n",
            "o, 1101111, 157, 111, 6F\n",
            "v, 1110110, 166, 118, 76\n",
            "i, 1101001, 151, 105, 69\n",
            "a, 1100001, 141, 97, 61\n",
            "\n",
            "\n"
          ]
        }
      ]
    },
    {
      "cell_type": "code",
      "source": [
        "s = 'aku adalah'\n",
        "\n",
        "print(s, 'lelaki')"
      ],
      "metadata": {
        "colab": {
          "base_uri": "https://localhost:8080/"
        },
        "id": "s-v1cpEI-Wc_",
        "outputId": "c3db6b1e-e596-471c-8e7d-3fc3e21e56c6"
      },
      "execution_count": null,
      "outputs": [
        {
          "output_type": "stream",
          "name": "stdout",
          "text": [
            "aku adalah lelaki\n"
          ]
        }
      ]
    },
    {
      "cell_type": "markdown",
      "source": [
        "**Percabangan & Perulangan**"
      ],
      "metadata": {
        "id": "nT_LTMq_oH09"
      }
    },
    {
      "cell_type": "code",
      "source": [
        "s = 12\n",
        "\n",
        "# if s > 18:\n",
        "#     for i in range(12, 16):\n",
        "#         print(i)\n",
        "#     print(\"Selesai\")\n",
        "\n",
        "while s < 16:\n",
        "  print(s)\n",
        "  s += 1\n",
        "\n",
        "  while s > 18:\n",
        "    s -= 1\n",
        "    if s == 16 :\n",
        "      continue\n",
        "print('Selesai')\n"
      ],
      "metadata": {
        "colab": {
          "base_uri": "https://localhost:8080/"
        },
        "id": "mhg7NutAtCme",
        "outputId": "821d6f1f-1c66-4a36-990e-79eb2b5edf56"
      },
      "execution_count": null,
      "outputs": [
        {
          "output_type": "stream",
          "name": "stdout",
          "text": [
            "12\n",
            "13\n",
            "14\n",
            "15\n",
            "Selesai\n"
          ]
        }
      ]
    },
    {
      "cell_type": "code",
      "source": [
        "f = open('readme.txt', 'w')\n",
        "f.write('Pelatihan kita di LPPI kemang')\n",
        "f.write('\\nDengan waktu yang telah ditentukan')\n",
        "\n",
        "f = open(\"readme.txt\", \"r\")\n",
        "print(f.read())"
      ],
      "metadata": {
        "id": "KRrJecQF2T4I",
        "colab": {
          "base_uri": "https://localhost:8080/"
        },
        "outputId": "64076cc7-3969-412c-c4ab-0db317c9f0ae"
      },
      "execution_count": null,
      "outputs": [
        {
          "output_type": "stream",
          "name": "stdout",
          "text": [
            "Pelatihan kita di LPPI kemang\n",
            "Dengan waktu yang telah ditentukan\n"
          ]
        }
      ]
    },
    {
      "cell_type": "code",
      "source": [
        "with open(\"readme.txt\", \"r\") as f:\n",
        "    contents = f.readlines()\n",
        "\n",
        "contents.insert(1, 'dari pagi sampai sore\\n')\n",
        "\n",
        "with open(\"readme.txt\", \"w\") as f:\n",
        "    contents = \"\".join(contents)\n",
        "    f.write(contents)"
      ],
      "metadata": {
        "id": "Te04WY6loE6Y"
      },
      "execution_count": null,
      "outputs": []
    }
  ]
}